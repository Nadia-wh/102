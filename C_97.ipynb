{
  "nbformat": 4,
  "nbformat_minor": 0,
  "metadata": {
    "colab": {
      "provenance": [],
      "authorship_tag": "ABX9TyP7Dy0z50uqYYThnws4a5bd",
      "include_colab_link": true
    },
    "kernelspec": {
      "name": "python3",
      "display_name": "Python 3"
    },
    "language_info": {
      "name": "python"
    }
  },
  "cells": [
    {
      "cell_type": "markdown",
      "metadata": {
        "id": "view-in-github",
        "colab_type": "text"
      },
      "source": [
        "<a href=\"https://colab.research.google.com/github/Nadia-wh/102/blob/main/C_97.ipynb\" target=\"_parent\"><img src=\"https://colab.research.google.com/assets/colab-badge.svg\" alt=\"Open In Colab\"/></a>"
      ]
    },
    {
      "cell_type": "markdown",
      "source": [
        "This is class 97  this class talks about the fundamentals of a language called python"
      ],
      "metadata": {
        "id": "z_n5TGkNTwwF"
      }
    },
    {
      "cell_type": "code",
      "source": [
        "\n",
        "num1 = 9 \n",
        "print(\"It is a number\",num1)"
      ],
      "metadata": {
        "id": "5VzoYmJIT6P7"
      },
      "execution_count": null,
      "outputs": []
    },
    {
      "cell_type": "code",
      "source": [
        "name = [4,6]\n",
        "print(\"My name is \", type(name))"
      ],
      "metadata": {
        "id": "H3vL-LXuVFmQ"
      },
      "execution_count": null,
      "outputs": []
    },
    {
      "cell_type": "code",
      "source": [
        "# add the two numbers\n",
        "num1 = 2 \n",
        "num2 = 3 \n",
        "add= num1- num2 \n",
        "print (\"the additin is\",add)"
      ],
      "metadata": {
        "id": "CkspfmbDVoY3"
      },
      "execution_count": null,
      "outputs": []
    },
    {
      "cell_type": "markdown",
      "source": [
        "Let us learn about functions in python \n",
        "First we have to use a keyword def followed by the function name the code wihin the function does not need the curly parantheses , insted the proper indentation is recommended .Lts write a function to convert temperature to farenheit "
      ],
      "metadata": {
        "id": "vEEjYhcMV9CV"
      }
    },
    {
      "cell_type": "code",
      "source": [
        "\n",
        "def convert_to_faren(celsius):\n",
        "  fahrenheit = ((celsius) * (9/5)) + 32\n",
        "  return fahrenheit\n",
        "\n",
        "\n",
        "convert_to_faren(32.5)\n",
        "convert_to_faren(100)"
      ],
      "metadata": {
        "colab": {
          "base_uri": "https://localhost:8080/"
        },
        "id": "wVmeEWw4WQBJ",
        "outputId": "b81f2321-0f78-4648-a664-a12a4627b336"
      },
      "execution_count": 9,
      "outputs": [
        {
          "output_type": "execute_result",
          "data": {
            "text/plain": [
              "212.0"
            ]
          },
          "metadata": {},
          "execution_count": 9
        }
      ]
    },
    {
      "cell_type": "code",
      "source": [
        "print(\"Enter your salary\" )\n",
        "val = input()\n",
        "print (\"the salary is \", val )"
      ],
      "metadata": {
        "colab": {
          "base_uri": "https://localhost:8080/"
        },
        "id": "XhHQw_YdX2sQ",
        "outputId": "4129e112-9978-4d24-a12e-c6cc881d6311"
      },
      "execution_count": 12,
      "outputs": [
        {
          "output_type": "stream",
          "name": "stdout",
          "text": [
            "Enter your salary\n",
            "67\n",
            "the salary is  67\n"
          ]
        }
      ]
    }
  ]
}